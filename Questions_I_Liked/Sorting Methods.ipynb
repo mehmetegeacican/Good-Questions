{
 "cells": [
  {
   "cell_type": "code",
   "execution_count": 1,
   "id": "73e8f627",
   "metadata": {},
   "outputs": [],
   "source": [
    "#SORTING METHODS"
   ]
  },
  {
   "cell_type": "code",
   "execution_count": 9,
   "id": "4f586b12",
   "metadata": {},
   "outputs": [
    {
     "name": "stdout",
     "output_type": "stream",
     "text": [
      "[64, 34, 25, 12, 22, 11, 90]\n",
      "******\n",
      "SWAP COUNT ---->  14\n",
      "***AFTER SORTING **** \n",
      "[11, 12, 22, 25, 34, 64, 90]\n",
      "********\n",
      "COMPLEXITY:------BEST CASE ----- AVG CASE ----- WORST CASE\n",
      "           ------ O(n)---------O(n^2)----------O(n^2)\n",
      "Best Case occurs when the array is already sorted\n",
      "The algorithm can be improved by allowing it to stop when the sorting is complete, thus reducing the unneccessary amount of iterations\n"
     ]
    }
   ],
   "source": [
    "#BUBBLE SORT\n",
    "def bubble_sort(a):\n",
    "    swap_count = 0\n",
    "    #FOR \n",
    "    for i in range(len(a)):\n",
    "        for j in range(len(a) - 1):\n",
    "            if(a[j] > a[j + 1]):\n",
    "                #SWAP \n",
    "                a[j],a[j + 1] = a[j + 1],a[j]\n",
    "                swap_count += 1\n",
    "    print(\"SWAP COUNT ----> \", swap_count)\n",
    "arr = [64, 34, 25, 12, 22, 11, 90]\n",
    "print(arr)\n",
    "print(\"******\")\n",
    "bubble_sort(arr)\n",
    "print(\"***AFTER SORTING **** \")\n",
    "print(arr)\n",
    "print(\"********\")\n",
    "print(\"COMPLEXITY:------BEST CASE ----- AVG CASE ----- WORST CASE\")\n",
    "print(\"           ------ O(n)---------O(n^2)----------O(n^2)\")\n",
    "print(\"Best Case occurs when the array is already sorted\")\n",
    "print(\"The algorithm can be improved by allowing it to stop when the sorting is complete, thus reducing the unneccessary amount of iterations\")"
   ]
  },
  {
   "cell_type": "code",
   "execution_count": 10,
   "id": "db1e689d",
   "metadata": {},
   "outputs": [
    {
     "name": "stdout",
     "output_type": "stream",
     "text": [
      "[64, 34, 25, 12, 22, 11, 90]\n",
      "*******\n",
      "[11, 12, 22, 25, 34, 64, 90]\n"
     ]
    }
   ],
   "source": [
    "#BUBBLE SORT OPTIMIZED\n",
    "#STOPS WHEN THE INNER SWAP IS NOT EXISTENT\n",
    "def bubble_sort_optimized(arr): \n",
    "    #OUTER LOOP\n",
    "    for i in range(len(arr)):\n",
    "        swapped = False\n",
    "        #INNER LOOP\n",
    "        for j in range(len(arr) - 1):\n",
    "            if(arr[j] > arr[j + 1]):\n",
    "                #SWAP\n",
    "                arr[j],arr[j + 1] = arr[j + 1],arr[j]\n",
    "                #ADJUST SWAPPED TO TRUE\n",
    "                swapped = True\n",
    "        #BREAK FROM THE LOOP IF NO SWAP HAS BEEN MADE\n",
    "        if(swapped == False):\n",
    "            break\n",
    "    return arr\n",
    "arr = [64, 34, 25, 12, 22, 11, 90]\n",
    "print(arr)\n",
    "print(\"*******\")\n",
    "print(bubble_sort_optimized(arr))"
   ]
  },
  {
   "cell_type": "code",
   "execution_count": 16,
   "id": "37572854",
   "metadata": {},
   "outputs": [
    {
     "name": "stdout",
     "output_type": "stream",
     "text": [
      "********\n",
      "BEFORE SORTING\n",
      "[12, 11, 13, 5, 6, 7]\n",
      "********\n",
      "AFTER SORTING\n",
      "[5, 6, 7, 11, 12, 13]\n",
      "********\n",
      "COMPLEXITY:------BEST CASE ----- AVG CASE ----- WORST CASE\n",
      "           ------ O(nlogn)---------O(nlogn)----------O(nlogn)\n"
     ]
    }
   ],
   "source": [
    "#MERGE SORT\n",
    "def merge_sort(arr):\n",
    "    if(len(arr) > 1):\n",
    "        #FINDING THE MIDDLE\n",
    "        mid = len(arr) // 2\n",
    "        #DIVIDING THE ARRAY ELEMENTS\n",
    "        left = arr[:mid]\n",
    "        right = arr[mid:]\n",
    "        #DIVIDE TO THE FIRST HALF\n",
    "        merge_sort(left)\n",
    "        #DIVIDE TO THE SECOND HALF\n",
    "        merge_sort(right)\n",
    "        \n",
    "        #MERGING\n",
    "        i = j = k = 0\n",
    "        #COMPARISON AND COPYING TO THE RESULT ARRAY\n",
    "        while i < len(left) and j < len(right):\n",
    "            if(left[i] < right[j]):\n",
    "                arr[k] = left[i]\n",
    "                i += 1\n",
    "            else:\n",
    "                arr[k] = right[j]\n",
    "                j += 1\n",
    "            k += 1\n",
    "        #IF THERE ARE ANY ELEMENTS LEFT ON EITHER ARRAY\n",
    "        while i < len(left):\n",
    "            arr[k] = left[i]\n",
    "            i+=1\n",
    "            k += 1\n",
    "        while j < len(right):\n",
    "            arr[k] = right[j]\n",
    "            j += 1\n",
    "            k += 1\n",
    "#---------------------------------------\n",
    "arr = [12, 11, 13, 5, 6, 7]\n",
    "print(\"********\")\n",
    "print(\"BEFORE SORTING\")\n",
    "print(arr)\n",
    "print(\"********\")\n",
    "print(\"AFTER SORTING\")\n",
    "merge_sort(arr)\n",
    "print(arr)\n",
    "print(\"********\")\n",
    "print(\"COMPLEXITY:------BEST CASE ----- AVG CASE ----- WORST CASE\")\n",
    "print(\"           ------ O(nlogn)---------O(nlogn)----------O(nlogn)\")\n",
    "        "
   ]
  },
  {
   "cell_type": "code",
   "execution_count": 22,
   "id": "2d5417dc",
   "metadata": {},
   "outputs": [
    {
     "name": "stdout",
     "output_type": "stream",
     "text": [
      "********\n",
      "BEFORE SORTING\n",
      "[12, 11, 13, 5, 6, 7]\n",
      "********\n",
      "AFTER SORTING\n",
      "[5, 6, 7, 11, 12, 13]\n",
      "********\n",
      "COMPLEXITY:------BEST CASE ----- AVG CASE ----- WORST CASE\n",
      "           ------ O(nlogn)---------O(nlogn)----------O(n^2)\n",
      "WORST CASE HAPPENS WHEN THE PIVOT IS ALWAYS THE FIRST OR THE LAST ELEMENT\n",
      "BEST CASE HAPPENS WHEN THE PIVOT IS ALWAYS THE MIDDLE ELEMENT\n"
     ]
    }
   ],
   "source": [
    "#QUICK SORT\n",
    "\n",
    "def partition(arr,start,end):\n",
    "    #INITIALIZING PIVOT INDEX TO START\n",
    "    pivot_index = start\n",
    "    pivot = arr[pivot_index]\n",
    "    #LOOP RUNS TILL START POINTER CROSSES END POINTER,\n",
    "    #WHEN THIS HAPPENS, WE SWAP THE PIVOT WITH ELEMENT ON END POINTER\n",
    "    while start < end:\n",
    "        #INCREMENT THE START TILL IT FINDS AN ELEMENT GREATER THAN PIVOT\n",
    "        while start < len(arr) and arr[start] <= pivot:\n",
    "            start += 1\n",
    "        #DECREMENT THE END POINTER TILL IT FINDS AN ELEMENT LESS THAN PIVOT\n",
    "        while arr[end] > pivot:\n",
    "            end -= 1\n",
    "        \n",
    "        #IF START AND END HAVE NOT CROSSED EACH OTHER,\n",
    "        #SWAP THE NUMBERS ON START AND END\n",
    "        if(start < end):\n",
    "            arr[start],arr[end] = arr[end],arr[start]\n",
    "        \n",
    "        #SWAP THE PIVOT ELEMENT WITH THE END ELEMENT\n",
    "        arr[end],arr[pivot_index] = arr[pivot_index],arr[end]\n",
    "    \n",
    "    #RETURNING END FOR DIVISION\n",
    "    return end\n",
    "    \n",
    "    \n",
    "\n",
    "def quick_sort(arr,start,end):\n",
    "    if(start < end):\n",
    "        #PARTITION INDEX \n",
    "        p = partition(arr,start,end)\n",
    "        #SORT ELEMENTS BEFORE PARTITION\n",
    "        quick_sort(arr,start,p- 1)\n",
    "        #SORT ELEMENTS AFTER PARTITION\n",
    "        quick_sort(arr,p + 1, end)\n",
    "\n",
    "arr = [12, 11, 13, 5, 6, 7]\n",
    "print(\"********\")\n",
    "print(\"BEFORE SORTING\")\n",
    "print(arr)\n",
    "print(\"********\")\n",
    "print(\"AFTER SORTING\")\n",
    "quick_sort(arr,0,len(arr)-1)\n",
    "print(arr)\n",
    "print(\"********\")\n",
    "print(\"COMPLEXITY:------BEST CASE ----- AVG CASE ----- WORST CASE\")\n",
    "print(\"           ------ O(nlogn)---------O(nlogn)----------O(n^2)\")\n",
    "print(\"WORST CASE HAPPENS WHEN THE PIVOT IS ALWAYS THE FIRST OR THE LAST ELEMENT\")\n",
    "print(\"BEST CASE HAPPENS WHEN THE PIVOT IS ALWAYS THE MIDDLE ELEMENT\")"
   ]
  },
  {
   "cell_type": "code",
   "execution_count": null,
   "id": "723581fe",
   "metadata": {},
   "outputs": [],
   "source": []
  }
 ],
 "metadata": {
  "kernelspec": {
   "display_name": "Python 3 (ipykernel)",
   "language": "python",
   "name": "python3"
  },
  "language_info": {
   "codemirror_mode": {
    "name": "ipython",
    "version": 3
   },
   "file_extension": ".py",
   "mimetype": "text/x-python",
   "name": "python",
   "nbconvert_exporter": "python",
   "pygments_lexer": "ipython3",
   "version": "3.10.2"
  }
 },
 "nbformat": 4,
 "nbformat_minor": 5
}
