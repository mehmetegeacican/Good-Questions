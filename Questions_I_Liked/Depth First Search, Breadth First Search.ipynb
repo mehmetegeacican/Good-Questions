{
 "cells": [
  {
   "cell_type": "code",
   "execution_count": 3,
   "id": "7400d6ff",
   "metadata": {},
   "outputs": [
    {
     "name": "stdout",
     "output_type": "stream",
     "text": [
      "0\n",
      "1\n",
      "4\n",
      "3\n",
      "2\n",
      "3\n",
      "2\n",
      "The time complexity of the depth first search is O(v + e) the number of vertices + the number of edges\n"
     ]
    }
   ],
   "source": [
    "#DEPTH FIRST SEARCH\n",
    "def dfs(graph,start,visited = None):\n",
    "    #SETS THE VISITED IF IT IS NOT NONE\n",
    "    if visited is None:\n",
    "        visited = set()\n",
    "    #ADDS THE START POINT INTO THE VISITED POINT\n",
    "    visited.add(start)\n",
    "    print(start)\n",
    "    #FOR THE VERTICES THAT ARE NOT VISITED ( GRAPH - VISITED)\n",
    "    for next in graph[start] - visited:\n",
    "        #RECURSION\n",
    "        dfs(graph,next,visited)\n",
    "    return visited\n",
    "\n",
    "graph = {'0': set(['1', '2']),\n",
    "         '1': set(['0', '3', '4']),\n",
    "         '2': set(['0']),\n",
    "         '3': set(['1']),\n",
    "         '4': set(['2', '3'])}\n",
    "\n",
    "dfs(graph, '0')\n",
    "print(\"The time complexity of the depth first search is O(v + e) the number of vertices + the number of edges\")"
   ]
  },
  {
   "cell_type": "code",
   "execution_count": 10,
   "id": "52694ee9",
   "metadata": {},
   "outputs": [
    {
     "name": "stdout",
     "output_type": "stream",
     "text": [
      "0 - 1 - 2 - 3 - \n",
      "The time complexity of the depth first search is O(v + e) the number of vertices + the number of edges\n"
     ]
    }
   ],
   "source": [
    "#BREADTH FIRST SEARCH\n",
    "import collections\n",
    "\n",
    "def bfs(graph,root):\n",
    "    visited,q = set(),collections.deque([root])\n",
    "    visited.add(root)\n",
    "    \n",
    "    while q:\n",
    "        #DEQUEUE A VERTEX\n",
    "        vertex = q.popleft()\n",
    "        print(vertex, \"-\", end = \" \")\n",
    "        \n",
    "        #IF NOT VISITED, MARK IT AS VISITED, AND ENQUEUE IT\n",
    "        for neighbour in graph[vertex]:\n",
    "            if neighbour not in visited:\n",
    "                visited.add(neighbour)\n",
    "                q.append(neighbour)\n",
    "                \n",
    "if __name__ == '__main__':\n",
    "    graph = {0: [1, 2], 1: [2], 2: [3], 3: [1, 2]}\n",
    "    bfs(graph, 0)\n",
    "    print(\"\")\n",
    "    print(\"The time complexity of the depth first search is O(v + e) the number of vertices + the number of edges\")"
   ]
  },
  {
   "cell_type": "code",
   "execution_count": null,
   "id": "0ef0a639",
   "metadata": {},
   "outputs": [],
   "source": []
  }
 ],
 "metadata": {
  "kernelspec": {
   "display_name": "Python 3 (ipykernel)",
   "language": "python",
   "name": "python3"
  },
  "language_info": {
   "codemirror_mode": {
    "name": "ipython",
    "version": 3
   },
   "file_extension": ".py",
   "mimetype": "text/x-python",
   "name": "python",
   "nbconvert_exporter": "python",
   "pygments_lexer": "ipython3",
   "version": "3.10.2"
  }
 },
 "nbformat": 4,
 "nbformat_minor": 5
}
