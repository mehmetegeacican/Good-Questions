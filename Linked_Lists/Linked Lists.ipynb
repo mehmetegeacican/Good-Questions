{
 "cells": [
  {
   "cell_type": "code",
   "execution_count": 1,
   "id": "a1c92cbd",
   "metadata": {},
   "outputs": [],
   "source": [
    "#Reversing a Linked List\n",
    "def reverse_efficient(llist):\n",
    "    # initialize variables\n",
    "    previous = None         # `previous` initially points to None\n",
    "    current = llist   # `current` points at the first element\n",
    "    following = current.next    # `following` points at the second element\n",
    "\n",
    "    # go till the last element of the list\n",
    "    while current:\n",
    "        current.next = previous # reverse the link\n",
    "        previous = current      # move `previous` one step ahead\n",
    "        current = following         # move `current` one step ahead\n",
    "        if following:               # if this was not the last element\n",
    "            following = following.next    # move `following` one step ahead\n",
    "\n",
    "    llist = previous\n",
    "    \n",
    "    return llist\n",
    "#REVERSE PRINTING A LINKED LIST\n",
    "def reversePrint(llist):\n",
    "    stack = []\n",
    "\n",
    "    while(llist != None):\n",
    "        stack.append(llist.data)\n",
    "        llist = llist.next\n",
    "        \n",
    "    while(stack):\n",
    "        print(stack[len(stack) -1])\n",
    "        stack.pop()"
   ]
  },
  {
   "cell_type": "code",
   "execution_count": 2,
   "id": "abb120f4",
   "metadata": {},
   "outputs": [],
   "source": [
    "#Printing a Linked List\n",
    "def print_list(llist):\n",
    "    while(llist):\n",
    "        print(llist.data)\n",
    "        llist = llist.next"
   ]
  },
  {
   "cell_type": "code",
   "execution_count": 3,
   "id": "717c77ba",
   "metadata": {},
   "outputs": [
    {
     "ename": "SyntaxError",
     "evalue": "invalid syntax (625468384.py, line 4)",
     "output_type": "error",
     "traceback": [
      "\u001b[1;36m  Input \u001b[1;32mIn [3]\u001b[1;36m\u001b[0m\n\u001b[1;33m    new_node = new Node(data)\u001b[0m\n\u001b[1;37m                   ^\u001b[0m\n\u001b[1;31mSyntaxError\u001b[0m\u001b[1;31m:\u001b[0m invalid syntax\n"
     ]
    }
   ],
   "source": [
    "#NODE INSERTION\n",
    "#TAIL\n",
    "def insert_tail(llist,data):\n",
    "    new_node = new Node(data)\n",
    "    if(llist is None):\n",
    "        llist = new_node\n",
    "    else:\n",
    "        tmp = llist\n",
    "        while(tmp.next):\n",
    "            tmp = tmp.next\n",
    "        tmp.next = new_node\n",
    "#HEAD\n",
    "def insert_head(llist,data):\n",
    "    new_node = new Node(data)\n",
    "    if(llist is None):\n",
    "        new_node = llist\n",
    "    else:\n",
    "        llist = new_node.next\n",
    "        new_node = llist"
   ]
  },
  {
   "cell_type": "code",
   "execution_count": 4,
   "id": "02cb9b03",
   "metadata": {},
   "outputs": [],
   "source": [
    "# Complete the compare_lists function below.\n",
    "\n",
    "#\n",
    "# For your reference:\n",
    "#\n",
    "# SinglyLinkedListNode:\n",
    "#     int data\n",
    "#     SinglyLinkedListNode next\n",
    "#\n",
    "#\n",
    "def compare_lists(llist1, llist2):\n",
    "    while(llist1 and llist2):\n",
    "        if(llist1.data != llist2.data):\n",
    "            return 0\n",
    "        llist1 = llist1.next\n",
    "        llist2 = llist2.next\n",
    "    if(llist1 == None and llist2 == None):\n",
    "        return 1\n",
    "    return 0\n"
   ]
  },
  {
   "cell_type": "code",
   "execution_count": 5,
   "id": "5729a6af",
   "metadata": {},
   "outputs": [
    {
     "ename": "SyntaxError",
     "evalue": "invalid syntax (3963968459.py, line 3)",
     "output_type": "error",
     "traceback": [
      "\u001b[1;36m  Input \u001b[1;32mIn [5]\u001b[1;36m\u001b[0m\n\u001b[1;33m    new_node = new Node(data)\u001b[0m\n\u001b[1;37m                   ^\u001b[0m\n\u001b[1;31mSyntaxError\u001b[0m\u001b[1;31m:\u001b[0m invalid syntax\n"
     ]
    }
   ],
   "source": [
    "#INSERT AT A SPECIFIC POSITION\n",
    "def insert_at_pos(llist,data,pos):\n",
    "    new_node = new Node(data)\n",
    "    \n",
    "    #insert head if pos == 0\n",
    "    if pos == 0:\n",
    "        llist = new_node.next\n",
    "        new_node = llist\n",
    "    #else\n",
    "    else:\n",
    "        tmp = llist\n",
    "        index = 1\n",
    "        while(tmp.next):\n",
    "            next_node = tmp.next\n",
    "            if(position == index):\n",
    "                tmp.next = new_node\n",
    "                new_node.next = next_node\n",
    "                return llist\n",
    "            tmp = tmp.next\n",
    "            index += 1\n",
    "        tmp.next = new_node"
   ]
  },
  {
   "cell_type": "code",
   "execution_count": null,
   "id": "4e83568c",
   "metadata": {},
   "outputs": [],
   "source": []
  }
 ],
 "metadata": {
  "kernelspec": {
   "display_name": "Python 3 (ipykernel)",
   "language": "python",
   "name": "python3"
  },
  "language_info": {
   "codemirror_mode": {
    "name": "ipython",
    "version": 3
   },
   "file_extension": ".py",
   "mimetype": "text/x-python",
   "name": "python",
   "nbconvert_exporter": "python",
   "pygments_lexer": "ipython3",
   "version": "3.11.5"
  }
 },
 "nbformat": 4,
 "nbformat_minor": 5
}
