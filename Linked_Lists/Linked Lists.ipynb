{
 "cells": [
  {
   "cell_type": "code",
   "execution_count": 54,
   "id": "a1c92cbd",
   "metadata": {},
   "outputs": [],
   "source": [
    "# Node Implementation\n",
    "class Node:\n",
    "    # Constructor\n",
    "    def __init__(self,data):\n",
    "        self.data = data\n",
    "        self.next = None"
   ]
  },
  {
   "cell_type": "code",
   "execution_count": 66,
   "id": "bf653a16",
   "metadata": {},
   "outputs": [],
   "source": [
    "# Linked List Implementation\n",
    "class Linked_List:\n",
    "    # Constructor\n",
    "    def __init__(self):\n",
    "        self.head = None\n",
    "        self.next = None\n",
    "        self.size = 0\n",
    "    # Methods\n",
    "    \n",
    "    # Insert to Head\n",
    "    def insert_to_head(self,data):\n",
    "        new_node = Node(data)\n",
    "        if(self.head is None):\n",
    "            self.head = new_node\n",
    "            \n",
    "        \n",
    "        else:\n",
    "            new_node.next = self.Head\n",
    "            self.head = new_node\n",
    "        self.size += 1\n",
    "    # Insert To Tail\n",
    "    def insert_to_tail(self,data):\n",
    "        # edge case , empty list,\n",
    "        new_node = Node(data) \n",
    "        if(self.head is None):\n",
    "            self.head = new_node\n",
    "        else:\n",
    "            curr = self.head\n",
    "            # Iterate to the Last Element\n",
    "            while(curr.next):\n",
    "                curr = curr.next\n",
    "            # Add the Last Element\n",
    "            curr.next = new_node\n",
    "        self.size += 1\n",
    "    # Insert To A specific Index\n",
    "    def insert_to_index(self,data,index):\n",
    "        # step 1 -- Check the Out of Bounds\n",
    "        if(index < 0 or index > self.size):\n",
    "            return\n",
    "        elif(index == 0):\n",
    "            new_node = Node(data)\n",
    "            new_node.next = self.head\n",
    "            self.head = new_node\n",
    "        else:\n",
    "            count = 0\n",
    "            prev = None\n",
    "            curr = self.head\n",
    "            new_node = Node(data)\n",
    "            while(count < index):\n",
    "                prev = curr\n",
    "                count += 1\n",
    "                curr = curr.next\n",
    "            prev.next = new_node\n",
    "            new_node.next = curr        \n",
    "        self.size += 1\n",
    "    # Print\n",
    "    def print_list(self):\n",
    "        curr = self.head\n",
    "        while(curr):\n",
    "            print(curr.data)\n",
    "            curr = curr.next\n",
    "    # Reverse LL\n",
    "    def reverse(self):\n",
    "        if(self.head is None):\n",
    "            return\n",
    "        elif(self.size == 1):\n",
    "            return\n",
    "        else:\n",
    "            prev = None\n",
    "            curr = self.head\n",
    "            while(curr):\n",
    "                next = curr.next\n",
    "                # Pointer Swap\n",
    "                curr.next = prev # This alters the pointer pointing \n",
    "                # Iter\n",
    "                prev = curr\n",
    "                curr = next\n",
    "            self.head = prev\n",
    "    # Reverse Print\n",
    "    def print_list_reverse(self):\n",
    "        curr = self.head\n",
    "        if(curr is None):\n",
    "            return \n",
    "        self.print_list_reverse(curr.next)\n",
    "        print(curr.data)\n",
    "\n",
    "\n",
    "    # Remove From a Specific Index\n",
    "    \n",
    "        "
   ]
  },
  {
   "cell_type": "code",
   "execution_count": 71,
   "id": "eabe6bb5",
   "metadata": {},
   "outputs": [
    {
     "name": "stdout",
     "output_type": "stream",
     "text": [
      "5\n",
      "7\n",
      "3\n"
     ]
    }
   ],
   "source": [
    "ll = Linked_List()\n",
    "ll.insert_to_head(5)\n",
    "ll.insert_to_tail(7)\n",
    "ll.insert_to_index(3,2)\n",
    "ll.print_list()"
   ]
  },
  {
   "cell_type": "code",
   "execution_count": 72,
   "id": "48f6a8c0",
   "metadata": {},
   "outputs": [
    {
     "name": "stdout",
     "output_type": "stream",
     "text": [
      "3\n",
      "7\n",
      "5\n"
     ]
    }
   ],
   "source": [
    "ll.reverse()\n",
    "ll.print_list()"
   ]
  },
  {
   "cell_type": "code",
   "execution_count": null,
   "id": "261ae744",
   "metadata": {},
   "outputs": [],
   "source": [
    "#Reversing a Linked List\n",
    "def reverse_efficient(llist):\n",
    "    # initialize variables\n",
    "    previous = None         # `previous` initially points to None\n",
    "    current = llist   # `current` points at the first element\n",
    "    following = current.next    # `following` points at the second element\n",
    "\n",
    "    # go till the last element of the list\n",
    "    while current:\n",
    "        current.next = previous # reverse the link\n",
    "        previous = current      # move `previous` one step ahead\n",
    "        current = following         # move `current` one step ahead\n",
    "        if following:               # if this was not the last element\n",
    "            following = following.next    # move `following` one step ahead\n",
    "\n",
    "    llist = previous\n",
    "    \n",
    "    return llist\n",
    "#REVERSE PRINTING A LINKED LIST\n",
    "def reversePrint(llist):\n",
    "    stack = []\n",
    "\n",
    "    while(llist != None):\n",
    "        stack.append(llist.data)\n",
    "        llist = llist.next\n",
    "        \n",
    "    while(stack):\n",
    "        print(stack[len(stack) -1])\n",
    "        stack.pop()"
   ]
  },
  {
   "cell_type": "code",
   "execution_count": null,
   "id": "f9f0e733",
   "metadata": {},
   "outputs": [],
   "source": []
  },
  {
   "cell_type": "code",
   "execution_count": 50,
   "id": "abb120f4",
   "metadata": {},
   "outputs": [],
   "source": [
    "#Printing a Linked List\n",
    "def print_list(llist):\n",
    "    while(llist):\n",
    "        print(llist.data)\n",
    "        llist = llist.next"
   ]
  },
  {
   "cell_type": "code",
   "execution_count": null,
   "id": "02cb9b03",
   "metadata": {},
   "outputs": [],
   "source": [
    "# Complete the compare_lists function below.\n",
    "\n",
    "#\n",
    "# For your reference:\n",
    "#\n",
    "# SinglyLinkedListNode:\n",
    "#     int data\n",
    "#     SinglyLinkedListNode next\n",
    "#\n",
    "#\n",
    "def compare_lists(llist1, llist2):\n",
    "    while(llist1 and llist2):\n",
    "        if(llist1.data != llist2.data):\n",
    "            return 0\n",
    "        llist1 = llist1.next\n",
    "        llist2 = llist2.next\n",
    "    if(llist1 == None and llist2 == None):\n",
    "        return 1\n",
    "    return 0\n"
   ]
  },
  {
   "cell_type": "code",
   "execution_count": null,
   "id": "4e83568c",
   "metadata": {},
   "outputs": [],
   "source": []
  }
 ],
 "metadata": {
  "kernelspec": {
   "display_name": "Python 3 (ipykernel)",
   "language": "python",
   "name": "python3"
  },
  "language_info": {
   "codemirror_mode": {
    "name": "ipython",
    "version": 3
   },
   "file_extension": ".py",
   "mimetype": "text/x-python",
   "name": "python",
   "nbconvert_exporter": "python",
   "pygments_lexer": "ipython3",
   "version": "3.11.5"
  }
 },
 "nbformat": 4,
 "nbformat_minor": 5
}
