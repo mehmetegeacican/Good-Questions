{
 "cells": [
  {
   "cell_type": "code",
   "execution_count": 2,
   "id": "a82dfee2-ad99-476a-9b19-d11b3a3ff249",
   "metadata": {},
   "outputs": [],
   "source": [
    "class Tree_Node:\n",
    "    def __init__(self,key):\n",
    "        self.val = key\n",
    "        self.left = None\n",
    "        self.right = None"
   ]
  },
  {
   "cell_type": "code",
   "execution_count": 3,
   "id": "9f7bc4a6-0bac-40e8-ab6c-a30c92e902a0",
   "metadata": {},
   "outputs": [],
   "source": [
    "class Binary_Search_Tree:\n",
    "    def __init__(self,root = None):\n",
    "        self.root = root\n",
    "    # Insertion Methods\n",
    "    def insertToBST(self,root,val):\n",
    "        newNode = Tree_Node(val)\n",
    "        if(root is None):\n",
    "            root = newNode\n",
    "        elif(val < root.val):\n",
    "            root.left = self.insertToBST(root.left,val)\n",
    "        elif(val > root.val):\n",
    "            root.right = self.insertToBST(root.right,val)\n",
    "        return root\n",
    "    def insert(self,val):\n",
    "        self.root = self.insertToBST(self.root,val)\n",
    "    # Deletion Methods\n",
    "    def deleteFromBST(self,root,val):\n",
    "        # Step 1 -- Find the Root\n",
    "        if(root is None):\n",
    "            return None\n",
    "        elif(val < root.val):\n",
    "            root.left = self.deleteFromBST(root.left,val)\n",
    "        elif(val > root.val):\n",
    "            root.right = self.deleteFromBST(root.right,val)\n",
    "        else:\n",
    "            # Found the Node\n",
    "            if(root.left is None):\n",
    "                return root.right\n",
    "            elif(root.right is None):\n",
    "                return root.left\n",
    "            else:\n",
    "                # Find the Left Most\n",
    "                lm = root.right\n",
    "                while(lm.left):\n",
    "                    lm = lm.left\n",
    "                # Change the values of the lm with the root\n",
    "                root.val = lm.val\n",
    "                # Delete the LM\n",
    "                root.right = self.deleteFromBST(root.right,root.val)\n",
    "        return root\n",
    "\n",
    "    def delete(self,val):\n",
    "        self.root = self.deleteFromBST(self.root,val)\n",
    "    # Traverse Methods\n",
    "    def in_order (self,root) :\n",
    "        if(root is None):\n",
    "            return\n",
    "        self.in_order(root.left)\n",
    "        print(root.val,sep = \" \")\n",
    "        self.in_order(root.right)\n",
    "    def pre_order(self,root):\n",
    "        if(root is None):\n",
    "            return\n",
    "        print(root.val,\" \")\n",
    "        self.pre_order(root.left)\n",
    "        self.pre_order(root.right)\n",
    "    def traverse_pre_order(self):\n",
    "        self.pre_order(self.root)\n",
    "    def traverse_in_order(self):\n",
    "        self.in_order(self.root)"
   ]
  },
  {
   "cell_type": "code",
   "execution_count": 4,
   "id": "ef332aac-d256-4684-b805-d302237c227b",
   "metadata": {},
   "outputs": [
    {
     "name": "stdout",
     "output_type": "stream",
     "text": [
      "3\n",
      "5\n",
      "7\n",
      "**********\n",
      "5  \n",
      "3  \n",
      "7  \n"
     ]
    }
   ],
   "source": [
    "x = Binary_Search_Tree()\n",
    "x.insert(5)\n",
    "x.insert(7)\n",
    "x.insert(3)\n",
    "x.traverse_in_order()\n",
    "print(\"**********\")\n",
    "x.traverse_pre_order()"
   ]
  },
  {
   "cell_type": "code",
   "execution_count": null,
   "id": "260e4c79-81f0-47ff-923d-768f9f136b17",
   "metadata": {},
   "outputs": [],
   "source": []
  },
  {
   "cell_type": "code",
   "execution_count": null,
   "id": "74d22509-a44e-4d5e-81e7-5992a0bc072b",
   "metadata": {},
   "outputs": [],
   "source": []
  }
 ],
 "metadata": {
  "kernelspec": {
   "display_name": "Python 3 (ipykernel)",
   "language": "python",
   "name": "python3"
  },
  "language_info": {
   "codemirror_mode": {
    "name": "ipython",
    "version": 3
   },
   "file_extension": ".py",
   "mimetype": "text/x-python",
   "name": "python",
   "nbconvert_exporter": "python",
   "pygments_lexer": "ipython3",
   "version": "3.11.5"
  }
 },
 "nbformat": 4,
 "nbformat_minor": 5
}
